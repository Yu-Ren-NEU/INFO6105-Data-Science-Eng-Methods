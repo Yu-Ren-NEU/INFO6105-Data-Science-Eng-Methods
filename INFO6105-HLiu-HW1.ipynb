{
 "cells": [
  {
   "cell_type": "raw",
   "metadata": {},
   "source": [
    "INFO6105 Instructor: Dr. Handan Liu\n",
    "Homework 1  \n",
    "Signed on 2020/01/23\n",
    "Submitted by the end of 2020/01/31 on Blackboard. The late submission will be accepted up to one day after the deadline with a 50% penalty according to the policy in the syllabus.\n",
    "\n",
    "Grading: total 100 points."
   ]
  },
  {
   "cell_type": "raw",
   "metadata": {},
   "source": [
    "1. Create Numpy Arrays:  total 28 points"
   ]
  },
  {
   "cell_type": "raw",
   "metadata": {},
   "source": [
    "1) Create an array of [1, 2, 3].    - 1 point"
   ]
  },
  {
   "cell_type": "raw",
   "metadata": {},
   "source": [
    "2) Let x = [1, 2]. Convert it into an array.  - 1 point"
   ]
  },
  {
   "cell_type": "raw",
   "metadata": {},
   "source": [
    "3) Create a new array of 3 x 2 float numbers, filled with ones.  - 1 point"
   ]
  },
  {
   "cell_type": "raw",
   "metadata": {},
   "source": [
    "4) Create a 3-D array with ones on the diagonal and zeros elsewhere.  - 1 point"
   ]
  },
  {
   "cell_type": "raw",
   "metadata": {},
   "source": [
    "5) Create a new array of 2 x 5 uints, filled with 6.   - 2 point"
   ]
  },
  {
   "cell_type": "raw",
   "metadata": {},
   "source": [
    "6) Create an array of 2, 4, 6, 8, ..., 98, 100.   - 2 point"
   ]
  },
  {
   "cell_type": "raw",
   "metadata": {},
   "source": [
    "7) create an array of 10 zeros; another array of 10 fives. - 2 points"
   ]
  },
  {
   "cell_type": "raw",
   "metadata": {},
   "source": [
    "8) create a 3x3x3 array filled with arbitrary values. - 2 points"
   ]
  },
  {
   "cell_type": "raw",
   "metadata": {},
   "source": [
    "9) create a 3x4 matrix filled with values from 10 to 21 (inclusive). - 6 ponits"
   ]
  },
  {
   "cell_type": "raw",
   "metadata": {},
   "source": [
    "10) Create an 4x4 matrix in which 0 and 1 are staggered, with zeros on the main diagonal. Please use the numpy \"slicing\" method to realize.\n",
    "     - 10 points\n",
    "If students use other methods to get the same result, TA only can give 4 points."
   ]
  },
  {
   "cell_type": "raw",
   "metadata": {},
   "source": [
    "\n",
    "2. Numpy Randm Number  - total 8 points\n",
    "1) Assign number 10 to the seed of the random generator so that you can get the same value next time.   - 2 point\n",
    "2) Create an array of shape (3, 2) and populate it with random samples from a uniform distribution over [0, 1).  - 2 point\n",
    "3) Create an array of shape (3, 2) and populate it with random integers ranging from 0 to 3 (inclusive) from a discrete uniform distribution. \n",
    "    - 4 points\n"
   ]
  },
  {
   "cell_type": "raw",
   "metadata": {},
   "source": [
    "\n",
    "3. Operate on Numpy Arrays: total 23 points\n"
   ]
  },
  {
   "cell_type": "raw",
   "metadata": {},
   "source": [
    "1) Let x be an array [1, 2, 3, ..., 9]. Split x into 3 arrays, each of which has 4, 2, and 3 elements in the original order. - 4 points"
   ]
  },
  {
   "cell_type": "raw",
   "metadata": {},
   "source": [
    "2) Given an array    - 8 points\n",
    "[[ 0., 1., 2., 3.],\n",
    "[ 4., 5., 6., 7.],\n",
    "[ 8., 9., 10., 11.],\n",
    "[ 12., 13., 14., 15.]].\n",
    "Split it into two arrays along the second axis."
   ]
  },
  {
   "cell_type": "raw",
   "metadata": {},
   "source": [
    "3) Given an array: [[5,10,15],[20,25,30],[35,40,45]]   - 4 points\n",
    "(1) Slicing to get the sub-array [[10,15],[25,30]]\n",
    "(2) Getting individual element value \"20\""
   ]
  },
  {
   "cell_type": "raw",
   "metadata": {},
   "source": [
    "4)  - 6 points\n",
    "Let x be an array\n",
    "[[ 1 2 3]\n",
    " [ 4 5 6]].\n",
    "\n",
    "and y be an array\n",
    "[[ 7 8 9]\n",
    " [10 11 12]].\n",
    "\n",
    "Concatenate x and y so that a new array looks like\n",
    "[[1, 2, 3, 7, 8, 9],\n",
    " [4, 5, 6, 10, 11, 12]]."
   ]
  },
  {
   "cell_type": "raw",
   "metadata": {},
   "source": [
    "\n",
    "4. Array Slicing: total 10 points, 2 points each\n",
    "Given an array: \n",
    "array([ 3,  6,  9,  25, 10,  8])\n"
   ]
  },
  {
   "cell_type": "raw",
   "metadata": {},
   "source": [
    "1) To get all elements except the first:"
   ]
  },
  {
   "cell_type": "raw",
   "metadata": {},
   "source": [
    "2) To get all elements except the last:"
   ]
  },
  {
   "cell_type": "raw",
   "metadata": {},
   "source": [
    "3) To get every other element of the array (operation from the first element):"
   ]
  },
  {
   "cell_type": "raw",
   "metadata": {},
   "source": [
    "4) To get every element of the array (operation from the second element):"
   ]
  },
  {
   "cell_type": "raw",
   "metadata": {},
   "source": [
    "5) To reverse the array:"
   ]
  },
  {
   "cell_type": "raw",
   "metadata": {},
   "source": [
    "\n",
    "5. Multidimensional Arrays: total 4 points, 1 points each\n"
   ]
  },
  {
   "cell_type": "raw",
   "metadata": {},
   "source": [
    "1) create an array with the components as 0-31 and the shape is (8,4)"
   ]
  },
  {
   "cell_type": "raw",
   "metadata": {},
   "source": [
    "2) set the 3rd element in the 1st row to 0"
   ]
  },
  {
   "cell_type": "raw",
   "metadata": {},
   "source": [
    "3)  the second column"
   ]
  },
  {
   "cell_type": "raw",
   "metadata": {},
   "source": [
    "4) select any 3x3 region from the array"
   ]
  },
  {
   "cell_type": "raw",
   "metadata": {},
   "source": [
    "\n",
    "6. Create a random array with 1000 elements and compute the average, variance, standard deviation of the array elements.   - 7 points\n",
    "And print the formatted outputs which keep 5 digits after the decimal point.\n"
   ]
  },
  {
   "cell_type": "raw",
   "metadata": {},
   "source": [
    "7. Broadcasting: 10 points\n",
    "\n",
    "1) Please add the following two arrays according to the 3 rules. You can reshape the array by np.reshape or 'newaxis'. (each for 5 points)"
   ]
  },
  {
   "cell_type": "raw",
   "metadata": {},
   "source": [
    "# 1) \n",
    "a = np.array([0.0, 10.0, 20.0, 30.0])\n",
    "b = np.array([1.0, 2.0, 3.0])\n"
   ]
  },
  {
   "cell_type": "raw",
   "metadata": {},
   "source": [
    "# 2) \n",
    "x = np.arange(4)\n",
    "y = np.ones(5)\n"
   ]
  },
  {
   "cell_type": "raw",
   "metadata": {},
   "source": [
    "\n",
    "8. Write a 6x6 times table matrix:  total 10 points \n",
    "    - by using numpy broadcasting (5 points) \n",
    "    - by using Python nested for-loop (5 points).\n",
    "    "
   ]
  },
  {
   "cell_type": "code",
   "execution_count": null,
   "metadata": {},
   "outputs": [],
   "source": []
  },
  {
   "cell_type": "code",
   "execution_count": null,
   "metadata": {},
   "outputs": [],
   "source": []
  }
 ],
 "metadata": {
  "kernelspec": {
   "display_name": "Python 3",
   "language": "python",
   "name": "python3"
  },
  "language_info": {
   "codemirror_mode": {
    "name": "ipython",
    "version": 3
   },
   "file_extension": ".py",
   "mimetype": "text/x-python",
   "name": "python",
   "nbconvert_exporter": "python",
   "pygments_lexer": "ipython3",
   "version": "3.7.1"
  }
 },
 "nbformat": 4,
 "nbformat_minor": 2
}
