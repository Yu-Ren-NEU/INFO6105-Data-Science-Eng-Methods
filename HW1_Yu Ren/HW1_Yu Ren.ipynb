{
 "cells": [
  {
   "cell_type": "raw",
   "metadata": {},
   "source": [
    "INFO6105 Instructor: Dr. Handan Liu\n",
    "Homework 1  \n",
    "Signed on 2020/01/23\n",
    "Submitted by the end of 2020/01/31 on Blackboard. The late submission will be accepted up to one day after the deadline with a 50% penalty according to the policy in the syllabus.\n",
    "\n",
    "Grading: total 100 points."
   ]
  },
  {
   "cell_type": "code",
   "execution_count": 1,
   "metadata": {},
   "outputs": [
    {
     "data": {
      "text/plain": [
       "'1.17.2'"
      ]
     },
     "execution_count": 1,
     "metadata": {},
     "output_type": "execute_result"
    }
   ],
   "source": [
    "# 1. Create Numpy Arrays:  total 28 points\n",
    "\n",
    "import numpy as np\n",
    "np.__version__"
   ]
  },
  {
   "cell_type": "code",
   "execution_count": 4,
   "metadata": {},
   "outputs": [
    {
     "data": {
      "text/plain": [
       "array([1, 2, 3])"
      ]
     },
     "execution_count": 4,
     "metadata": {},
     "output_type": "execute_result"
    }
   ],
   "source": [
    "# 1) Create an array of [1, 2, 3].    - 1 point\n",
    "\n",
    "x = np.array([1, 2, 3])\n",
    "x"
   ]
  },
  {
   "cell_type": "code",
   "execution_count": 5,
   "metadata": {},
   "outputs": [
    {
     "data": {
      "text/plain": [
       "array([1, 2])"
      ]
     },
     "execution_count": 5,
     "metadata": {},
     "output_type": "execute_result"
    }
   ],
   "source": [
    "# 2) Let x = [1, 2]. Convert it into an array.  - 1 point\n",
    "\n",
    "x = [1, 2]\n",
    "res = np.asarray(x)\n",
    "res"
   ]
  },
  {
   "cell_type": "code",
   "execution_count": 6,
   "metadata": {},
   "outputs": [
    {
     "data": {
      "text/plain": [
       "array([[1., 1.],\n",
       "       [1., 1.],\n",
       "       [1., 1.]])"
      ]
     },
     "execution_count": 6,
     "metadata": {},
     "output_type": "execute_result"
    }
   ],
   "source": [
    "# 3) Create a new array of 3 x 2 float numbers, filled with ones.  - 1 point\n",
    "\n",
    "x = np.ones([3, 2], dtype = float)\n",
    "x"
   ]
  },
  {
   "cell_type": "code",
   "execution_count": 12,
   "metadata": {},
   "outputs": [
    {
     "data": {
      "text/plain": [
       "array([[[1, 0, 0, 0, 0],\n",
       "        [0, 0, 0, 0, 0],\n",
       "        [0, 0, 0, 0, 0],\n",
       "        [0, 0, 0, 0, 0],\n",
       "        [0, 0, 0, 0, 0]],\n",
       "\n",
       "       [[0, 0, 0, 0, 0],\n",
       "        [0, 1, 0, 0, 0],\n",
       "        [0, 0, 0, 0, 0],\n",
       "        [0, 0, 0, 0, 0],\n",
       "        [0, 0, 0, 0, 0]],\n",
       "\n",
       "       [[0, 0, 0, 0, 0],\n",
       "        [0, 0, 0, 0, 0],\n",
       "        [0, 0, 1, 0, 0],\n",
       "        [0, 0, 0, 0, 0],\n",
       "        [0, 0, 0, 0, 0]],\n",
       "\n",
       "       [[0, 0, 0, 0, 0],\n",
       "        [0, 0, 0, 0, 0],\n",
       "        [0, 0, 0, 0, 0],\n",
       "        [0, 0, 0, 1, 0],\n",
       "        [0, 0, 0, 0, 0]],\n",
       "\n",
       "       [[0, 0, 0, 0, 0],\n",
       "        [0, 0, 0, 0, 0],\n",
       "        [0, 0, 0, 0, 0],\n",
       "        [0, 0, 0, 0, 0],\n",
       "        [0, 0, 0, 0, 1]]])"
      ]
     },
     "execution_count": 12,
     "metadata": {},
     "output_type": "execute_result"
    }
   ],
   "source": [
    "# 4) Create a 3-D array with ones on the diagonal and zeros elsewhere.  - 1 point\n",
    "\n",
    "x = np.zeros([5, 5, 5], dtype=int)\n",
    "a = np.arange(5)\n",
    "x[a, a, a] = 1\n",
    "x"
   ]
  },
  {
   "cell_type": "code",
   "execution_count": 13,
   "metadata": {},
   "outputs": [
    {
     "data": {
      "text/plain": [
       "array([[6, 6, 6, 6, 6],\n",
       "       [6, 6, 6, 6, 6]])"
      ]
     },
     "execution_count": 13,
     "metadata": {},
     "output_type": "execute_result"
    }
   ],
   "source": [
    "# 5) Create a new array of 2 x 5 uints, filled with 6.   - 2 point\n",
    "\n",
    "x = np.full([2, 5], 6)\n",
    "x"
   ]
  },
  {
   "cell_type": "code",
   "execution_count": 14,
   "metadata": {},
   "outputs": [
    {
     "data": {
      "text/plain": [
       "array([  2,   4,   6,   8,  10,  12,  14,  16,  18,  20,  22,  24,  26,\n",
       "        28,  30,  32,  34,  36,  38,  40,  42,  44,  46,  48,  50,  52,\n",
       "        54,  56,  58,  60,  62,  64,  66,  68,  70,  72,  74,  76,  78,\n",
       "        80,  82,  84,  86,  88,  90,  92,  94,  96,  98, 100])"
      ]
     },
     "execution_count": 14,
     "metadata": {},
     "output_type": "execute_result"
    }
   ],
   "source": [
    "# 6) Create an array of 2, 4, 6, 8, ..., 98, 100.   - 2 point\n",
    "\n",
    "x = np.arange(2, 101)[::2]\n",
    "x"
   ]
  },
  {
   "cell_type": "code",
   "execution_count": 16,
   "metadata": {},
   "outputs": [
    {
     "name": "stdout",
     "output_type": "stream",
     "text": [
      "[0 0 0 0 0 0 0 0 0 0]\n",
      "[5 5 5 5 5 5 5 5 5 5]\n"
     ]
    }
   ],
   "source": [
    "# 7) create an array of 10 zeros; another array of 10 fives. - 2 points\n",
    "\n",
    "a = np.zeros(10, dtype=int)\n",
    "print(a)\n",
    "b = np.full([10], 5)\n",
    "print(b)"
   ]
  },
  {
   "cell_type": "code",
   "execution_count": 17,
   "metadata": {},
   "outputs": [
    {
     "data": {
      "text/plain": [
       "array([[[844, 754, 564],\n",
       "        [ 37, 513, 422],\n",
       "        [483, 355, 244]],\n",
       "\n",
       "       [[933, 155, 569],\n",
       "        [749, 152,  75],\n",
       "        [863,  67, 890]],\n",
       "\n",
       "       [[436, 317,  52],\n",
       "        [944, 573, 369],\n",
       "        [219, 555, 858]]])"
      ]
     },
     "execution_count": 17,
     "metadata": {},
     "output_type": "execute_result"
    }
   ],
   "source": [
    "# 8) create a 3x3x3 array filled with arbitrary values. - 2 points\n",
    "\n",
    "x = np.random.randint(1000, size=[3, 3, 3])\n",
    "x"
   ]
  },
  {
   "cell_type": "code",
   "execution_count": 18,
   "metadata": {},
   "outputs": [
    {
     "data": {
      "text/plain": [
       "array([[10, 11, 12, 13],\n",
       "       [14, 15, 16, 17],\n",
       "       [18, 19, 20, 21]])"
      ]
     },
     "execution_count": 18,
     "metadata": {},
     "output_type": "execute_result"
    }
   ],
   "source": [
    "# 9) create a 3x4 matrix filled with values from 10 to 21 (inclusive). - 6 ponits\n",
    "\n",
    "x = np.arange(10, 22).reshape([3, 4])\n",
    "x"
   ]
  },
  {
   "cell_type": "code",
   "execution_count": 11,
   "metadata": {},
   "outputs": [
    {
     "name": "stdout",
     "output_type": "stream",
     "text": [
      "[[0 1 0 1]\n",
      " [1 0 1 0]\n",
      " [0 1 0 1]\n",
      " [1 0 1 0]]\n"
     ]
    }
   ],
   "source": [
    "# 10) Create an 4x4 matrix in which 0 and 1 are staggered, with zeros on the main diagonal. Please use the numpy \"slicing\" method to realize.\n",
    "#      - 10 points\n",
    "# If students use other methods to get the same result, TA only can give 4 points.\n",
    "\n",
    "x = np.zeros((4, 4), dtype=int)\n",
    "x[::2, 1::2] = 1\n",
    "x[1::2, ::2] = 1\n",
    "print(x)"
   ]
  },
  {
   "cell_type": "code",
   "execution_count": 12,
   "metadata": {},
   "outputs": [
    {
     "name": "stdout",
     "output_type": "stream",
     "text": [
      "[[0.77132064 0.02075195]\n",
      " [0.63364823 0.74880388]\n",
      " [0.49850701 0.22479665]]\n",
      "[[1 2]\n",
      " [0 1]\n",
      " [0 2]]\n"
     ]
    }
   ],
   "source": [
    "# 2. Numpy Randm Number  - total 8 points\n",
    "# 1) Assign number 10 to the seed of the random generator so that you can get the same value next time.   - 2 point\n",
    "# 2) Create an array of shape (3, 2) and populate it with random samples from a uniform distribution over [0, 1).  - 2 point\n",
    "# 3) Create an array of shape (3, 2) and populate it with random integers ranging from 0 to 3 (inclusive) from a discrete uniform distribution. \n",
    "#     - 4 points\n",
    "\n",
    "np.random.seed(10)\n",
    "print(np.random.rand(3, 2))\n",
    "print(np.random.randint(0, 4, size = (3, 2)))"
   ]
  },
  {
   "cell_type": "code",
   "execution_count": 13,
   "metadata": {},
   "outputs": [],
   "source": [
    "\n",
    "# 3. Operate on Numpy Arrays: total 23 points\n"
   ]
  },
  {
   "cell_type": "code",
   "execution_count": 14,
   "metadata": {},
   "outputs": [
    {
     "name": "stdout",
     "output_type": "stream",
     "text": [
      "[1 2 3 4] [5 6] [7 8 9]\n"
     ]
    }
   ],
   "source": [
    "# 1) Let x be an array [1, 2, 3, ..., 9]. Split x into 3 arrays, each of which has 4, 2, and 3 elements in the original order. - 4 points\n",
    "\n",
    "x = np.array([1, 2, 3, 4, 5, 6, 7, 8, 9])\n",
    "x1, x2, x3 = np.split(x, [4, 6])\n",
    "print(x1, x2, x3)"
   ]
  },
  {
   "cell_type": "code",
   "execution_count": 15,
   "metadata": {},
   "outputs": [
    {
     "name": "stdout",
     "output_type": "stream",
     "text": [
      "[[ 0.  1.]\n",
      " [ 4.  5.]\n",
      " [ 8.  9.]\n",
      " [12. 13.]]\n",
      "[[ 2.  3.]\n",
      " [ 6.  7.]\n",
      " [10. 11.]\n",
      " [14. 15.]]\n"
     ]
    }
   ],
   "source": [
    "# 2) Given an array    - 8 points\n",
    "# [[ 0., 1., 2., 3.],\n",
    "# [ 4., 5., 6., 7.],\n",
    "# [ 8., 9., 10., 11.],\n",
    "# [ 12., 13., 14., 15.]].\n",
    "# Split it into two arrays along the second axis.\n",
    "\n",
    "arr = np.array([[ 0., 1., 2., 3.],\n",
    "                [ 4., 5., 6., 7.],\n",
    "                [ 8., 9., 10., 11.],\n",
    "                [ 12., 13., 14., 15.]])\n",
    "arr1, arr2 = np.split(arr, 2, axis=1)\n",
    "print(arr1)\n",
    "print(arr2)"
   ]
  },
  {
   "cell_type": "code",
   "execution_count": 16,
   "metadata": {},
   "outputs": [
    {
     "name": "stdout",
     "output_type": "stream",
     "text": [
      "[[10 15]\n",
      " [25 30]]\n",
      "20\n"
     ]
    }
   ],
   "source": [
    "# 3) Given an array: [[5,10,15],[20,25,30],[35,40,45]]   - 4 points\n",
    "# (1) Slicing to get the sub-array [[10,15],[25,30]]\n",
    "# (2) Getting individual element value \"20\"\n",
    "\n",
    "x = np.array([[5,10,15],[20,25,30],[35,40,45]])\n",
    "print(x[:2, 1:])\n",
    "print(x[1, 0])"
   ]
  },
  {
   "cell_type": "code",
   "execution_count": 17,
   "metadata": {},
   "outputs": [
    {
     "name": "stdout",
     "output_type": "stream",
     "text": [
      "[[ 1  2  3  7  8  9]\n",
      " [ 4  5  6 10 11 12]]\n"
     ]
    }
   ],
   "source": [
    "# 4)  - 6 points\n",
    "# Let x be an array\n",
    "# [[ 1 2 3]\n",
    "#  [ 4 5 6]].\n",
    "\n",
    "# and y be an array\n",
    "# [[ 7 8 9]\n",
    "#  [10 11 12]].\n",
    "\n",
    "# Concatenate x and y so that a new array looks like\n",
    "# [[1, 2, 3, 7, 8, 9],\n",
    "#  [4, 5, 6, 10, 11, 12]].\n",
    "\n",
    "x = np.array([[1, 2, 3],\n",
    "             [4, 5, 6]])\n",
    "y = np.array([[7, 8, 9],\n",
    "             [10, 11, 12]])\n",
    "print(np.concatenate([x, y], axis = 1))"
   ]
  },
  {
   "cell_type": "code",
   "execution_count": 18,
   "metadata": {},
   "outputs": [],
   "source": [
    "\n",
    "# 4. Array Slicing: total 10 points, 2 points each\n",
    "# Given an array: \n",
    "# array([ 3,  6,  9,  25, 10,  8])\n",
    "\n",
    "x = np.array([3, 6, 9, 25, 10, 8])"
   ]
  },
  {
   "cell_type": "code",
   "execution_count": 19,
   "metadata": {},
   "outputs": [
    {
     "data": {
      "text/plain": [
       "array([ 6,  9, 25, 10,  8])"
      ]
     },
     "execution_count": 19,
     "metadata": {},
     "output_type": "execute_result"
    }
   ],
   "source": [
    "# 1) To get all elements except the first:\n",
    "\n",
    "x[1:]"
   ]
  },
  {
   "cell_type": "code",
   "execution_count": 20,
   "metadata": {},
   "outputs": [
    {
     "data": {
      "text/plain": [
       "array([ 3,  6,  9, 25, 10])"
      ]
     },
     "execution_count": 20,
     "metadata": {},
     "output_type": "execute_result"
    }
   ],
   "source": [
    "# 2) To get all elements except the last:\n",
    "\n",
    "x[:5]"
   ]
  },
  {
   "cell_type": "code",
   "execution_count": 21,
   "metadata": {},
   "outputs": [
    {
     "data": {
      "text/plain": [
       "array([ 3,  9, 10])"
      ]
     },
     "execution_count": 21,
     "metadata": {},
     "output_type": "execute_result"
    }
   ],
   "source": [
    "# 3) To get every other element of the array (operation from the first element):\n",
    "\n",
    "x[::2]"
   ]
  },
  {
   "cell_type": "code",
   "execution_count": 22,
   "metadata": {},
   "outputs": [
    {
     "data": {
      "text/plain": [
       "array([ 6, 25,  8])"
      ]
     },
     "execution_count": 22,
     "metadata": {},
     "output_type": "execute_result"
    }
   ],
   "source": [
    "# 4) To get every element of the array (operation from the second element):\n",
    "\n",
    "x[1::2]"
   ]
  },
  {
   "cell_type": "code",
   "execution_count": 23,
   "metadata": {},
   "outputs": [
    {
     "data": {
      "text/plain": [
       "array([ 8, 10, 25,  9,  6,  3])"
      ]
     },
     "execution_count": 23,
     "metadata": {},
     "output_type": "execute_result"
    }
   ],
   "source": [
    "# 5) To reverse the array:\n",
    "\n",
    "x[::-1]"
   ]
  },
  {
   "cell_type": "code",
   "execution_count": 24,
   "metadata": {},
   "outputs": [],
   "source": [
    "\n",
    "# 5. Multidimensional Arrays: total 4 points, 1 points each\n"
   ]
  },
  {
   "cell_type": "code",
   "execution_count": 25,
   "metadata": {},
   "outputs": [
    {
     "name": "stdout",
     "output_type": "stream",
     "text": [
      "[[ 0  1  2  3]\n",
      " [ 4  5  6  7]\n",
      " [ 8  9 10 11]\n",
      " [12 13 14 15]\n",
      " [16 17 18 19]\n",
      " [20 21 22 23]\n",
      " [24 25 26 27]\n",
      " [28 29 30 31]]\n"
     ]
    }
   ],
   "source": [
    "# 1) create an array with the components as 0-31 and the shape is (8,4)\n",
    "\n",
    "x = np.arange(0, 32).reshape(8, 4)\n",
    "print(x)"
   ]
  },
  {
   "cell_type": "code",
   "execution_count": 26,
   "metadata": {},
   "outputs": [
    {
     "name": "stdout",
     "output_type": "stream",
     "text": [
      "[[ 0  1  0  3]\n",
      " [ 4  5  6  7]\n",
      " [ 8  9 10 11]\n",
      " [12 13 14 15]\n",
      " [16 17 18 19]\n",
      " [20 21 22 23]\n",
      " [24 25 26 27]\n",
      " [28 29 30 31]]\n"
     ]
    }
   ],
   "source": [
    "# 2) set the 3rd element in the 1st row to 0\n",
    "\n",
    "x[0, 2] = 0\n",
    "print(x)"
   ]
  },
  {
   "cell_type": "code",
   "execution_count": 27,
   "metadata": {},
   "outputs": [
    {
     "data": {
      "text/plain": [
       "array([ 1,  5,  9, 13, 17, 21, 25, 29])"
      ]
     },
     "execution_count": 27,
     "metadata": {},
     "output_type": "execute_result"
    }
   ],
   "source": [
    "# 3)  the second column\n",
    "\n",
    "x[:, 1]"
   ]
  },
  {
   "cell_type": "code",
   "execution_count": 28,
   "metadata": {},
   "outputs": [
    {
     "data": {
      "text/plain": [
       "array([[ 8,  9, 10],\n",
       "       [12, 13, 14],\n",
       "       [16, 17, 18]])"
      ]
     },
     "execution_count": 28,
     "metadata": {},
     "output_type": "execute_result"
    }
   ],
   "source": [
    "# 4) select any 3x3 region from the array\n",
    "\n",
    "x[2:5, 0:3]"
   ]
  },
  {
   "cell_type": "code",
   "execution_count": 20,
   "metadata": {},
   "outputs": [
    {
     "name": "stdout",
     "output_type": "stream",
     "text": [
      "Average: 0.49854\n",
      "Variance: 0.08244\n",
      "Standard deviation: 0.28713\n"
     ]
    }
   ],
   "source": [
    "\n",
    "# 6. Create a random array with 1000 elements and compute the average, variance, standard deviation of the array elements.   - 7 points\n",
    "# And print the formatted outputs which keep 5 digits after the decimal point.\n",
    "\n",
    "L = np.random.random(1000)\n",
    "mea = np.mean(L)\n",
    "var = np.var(L)\n",
    "std = np.std(L)\n",
    "print(\"Average: {:,.5f}\" .format(mea))\n",
    "print(\"Variance: {:,.5f}\" .format(var))\n",
    "print(\"Standard deviation: {:,.5f}\" .format(std))"
   ]
  },
  {
   "cell_type": "raw",
   "metadata": {},
   "source": [
    "# 7. Broadcasting: 10 points\n",
    "\n",
    "# 1) Please add the following two arrays according to the 3 rules. You can reshape the array by np.reshape or 'newaxis'. (each for 5 points)"
   ]
  },
  {
   "cell_type": "code",
   "execution_count": 30,
   "metadata": {},
   "outputs": [
    {
     "data": {
      "text/plain": [
       "array([[ 1., 11., 21., 31.],\n",
       "       [ 2., 12., 22., 32.],\n",
       "       [ 3., 13., 23., 33.]])"
      ]
     },
     "execution_count": 30,
     "metadata": {},
     "output_type": "execute_result"
    }
   ],
   "source": [
    "# 1) \n",
    "a = np.array([0.0, 10.0, 20.0, 30.0])\n",
    "b = np.array([1.0, 2.0, 3.0])\n",
    "\n",
    "b = np.reshape(b, [3, 1])\n",
    "a + b"
   ]
  },
  {
   "cell_type": "code",
   "execution_count": 35,
   "metadata": {},
   "outputs": [
    {
     "data": {
      "text/plain": [
       "array([[1., 1., 1., 1., 1.],\n",
       "       [2., 2., 2., 2., 2.],\n",
       "       [3., 3., 3., 3., 3.],\n",
       "       [4., 4., 4., 4., 4.]])"
      ]
     },
     "execution_count": 35,
     "metadata": {},
     "output_type": "execute_result"
    }
   ],
   "source": [
    "# 2) \n",
    "x = np.arange(4)\n",
    "y = np.ones(5)\n",
    "\n",
    "x[:, np.newaxis] + y"
   ]
  },
  {
   "cell_type": "code",
   "execution_count": null,
   "metadata": {},
   "outputs": [],
   "source": [
    "\n",
    "# 8. Write a 6x6 times table matrix:  total 10 points \n",
    "#     - by using numpy broadcasting (5 points) \n",
    "#     - by using Python nested for-loop (5 points).\n",
    "    "
   ]
  },
  {
   "cell_type": "code",
   "execution_count": 22,
   "metadata": {},
   "outputs": [
    {
     "name": "stdout",
     "output_type": "stream",
     "text": [
      "[[ 1  2  3  4  5  6]\n",
      " [ 2  4  6  8 10 12]\n",
      " [ 3  6  9 12 15 18]\n",
      " [ 4  8 12 16 20 24]\n",
      " [ 5 10 15 20 25 30]\n",
      " [ 6 12 18 24 30 36]]\n"
     ]
    }
   ],
   "source": [
    "x1 = np.arange(1, 7)\n",
    "x2 = np.arange(1, 7).reshape(6, 1)\n",
    "res = x1 * x2;\n",
    "print(res)"
   ]
  },
  {
   "cell_type": "code",
   "execution_count": 24,
   "metadata": {},
   "outputs": [
    {
     "name": "stdout",
     "output_type": "stream",
     "text": [
      "[[ 1  2  3  4  5  6]\n",
      " [ 2  4  6  8 10 12]\n",
      " [ 3  6  9 12 15 18]\n",
      " [ 4  8 12 16 20 24]\n",
      " [ 5 10 15 20 25 30]\n",
      " [ 6 12 18 24 30 36]]\n"
     ]
    }
   ],
   "source": [
    "x = np.arange(1, 7)\n",
    "res = np.zeros((6, 6), dtype = int)\n",
    "for a in x:\n",
    "    for b in x:\n",
    "        res[a - 1][b - 1] = a * b\n",
    "print(res)"
   ]
  },
  {
   "cell_type": "code",
   "execution_count": null,
   "metadata": {},
   "outputs": [],
   "source": []
  }
 ],
 "metadata": {
  "kernelspec": {
   "display_name": "Python 3",
   "language": "python",
   "name": "python3"
  },
  "language_info": {
   "codemirror_mode": {
    "name": "ipython",
    "version": 3
   },
   "file_extension": ".py",
   "mimetype": "text/x-python",
   "name": "python",
   "nbconvert_exporter": "python",
   "pygments_lexer": "ipython3",
   "version": "3.7.4"
  }
 },
 "nbformat": 4,
 "nbformat_minor": 4
}
